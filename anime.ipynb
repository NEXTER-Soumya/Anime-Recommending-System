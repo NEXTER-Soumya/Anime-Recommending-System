{
 "cells": [
  {
   "cell_type": "code",
   "execution_count": 1,
   "metadata": {},
   "outputs": [],
   "source": [
    "import pandas as pd"
   ]
  },
  {
   "cell_type": "code",
   "execution_count": 2,
   "metadata": {},
   "outputs": [],
   "source": [
    "anime = pd.read_csv('anime_list.csv')"
   ]
  },
  {
   "cell_type": "code",
   "execution_count": 3,
   "metadata": {},
   "outputs": [
    {
     "data": {
      "text/html": [
       "<div>\n",
       "<style scoped>\n",
       "    .dataframe tbody tr th:only-of-type {\n",
       "        vertical-align: middle;\n",
       "    }\n",
       "\n",
       "    .dataframe tbody tr th {\n",
       "        vertical-align: top;\n",
       "    }\n",
       "\n",
       "    .dataframe thead th {\n",
       "        text-align: right;\n",
       "    }\n",
       "</style>\n",
       "<table border=\"1\" class=\"dataframe\">\n",
       "  <thead>\n",
       "    <tr style=\"text-align: right;\">\n",
       "      <th></th>\n",
       "      <th>mal_id</th>\n",
       "      <th>title</th>\n",
       "      <th>synopsis</th>\n",
       "      <th>background</th>\n",
       "      <th>aired</th>\n",
       "      <th>airing</th>\n",
       "      <th>duration</th>\n",
       "      <th>episodes</th>\n",
       "      <th>type</th>\n",
       "      <th>favorites</th>\n",
       "      <th>...</th>\n",
       "      <th>score</th>\n",
       "      <th>scored_by</th>\n",
       "      <th>rating</th>\n",
       "      <th>premiered</th>\n",
       "      <th>genres</th>\n",
       "      <th>related</th>\n",
       "      <th>status</th>\n",
       "      <th>licensors</th>\n",
       "      <th>producers</th>\n",
       "      <th>studios</th>\n",
       "    </tr>\n",
       "  </thead>\n",
       "  <tbody>\n",
       "    <tr>\n",
       "      <th>0</th>\n",
       "      <td>1</td>\n",
       "      <td>Cowboy Bebop</td>\n",
       "      <td>In the year 2071, humanity has colonized sever...</td>\n",
       "      <td>-</td>\n",
       "      <td>Apr 3, 1998 to Apr 24, 1999</td>\n",
       "      <td>0</td>\n",
       "      <td>24 min per ep</td>\n",
       "      <td>26</td>\n",
       "      <td>TV</td>\n",
       "      <td>59968</td>\n",
       "      <td>...</td>\n",
       "      <td>8.77</td>\n",
       "      <td>661519</td>\n",
       "      <td>R - 17+ (violence &amp; profanity)</td>\n",
       "      <td>Spring 1998</td>\n",
       "      <td>Action, Adventure, Comedy, Drama, Sci-Fi, Space</td>\n",
       "      <td>{'Adaptation': [{'mal_id': 173, 'type': 'manga...</td>\n",
       "      <td>Finished Airing</td>\n",
       "      <td>Funimation, Bandai Entertainment</td>\n",
       "      <td>Bandai Visual</td>\n",
       "      <td>Sunrise</td>\n",
       "    </tr>\n",
       "  </tbody>\n",
       "</table>\n",
       "<p>1 rows × 23 columns</p>\n",
       "</div>"
      ],
      "text/plain": [
       "   mal_id         title                                           synopsis  \\\n",
       "0       1  Cowboy Bebop  In the year 2071, humanity has colonized sever...   \n",
       "\n",
       "  background                        aired  airing       duration  episodes  \\\n",
       "0          -  Apr 3, 1998 to Apr 24, 1999       0  24 min per ep        26   \n",
       "\n",
       "  type  favorites  ...  score  scored_by                          rating  \\\n",
       "0   TV      59968  ...   8.77     661519  R - 17+ (violence & profanity)   \n",
       "\n",
       "     premiered                                           genres  \\\n",
       "0  Spring 1998  Action, Adventure, Comedy, Drama, Sci-Fi, Space   \n",
       "\n",
       "                                             related           status  \\\n",
       "0  {'Adaptation': [{'mal_id': 173, 'type': 'manga...  Finished Airing   \n",
       "\n",
       "                          licensors      producers  studios  \n",
       "0  Funimation, Bandai Entertainment  Bandai Visual  Sunrise  \n",
       "\n",
       "[1 rows x 23 columns]"
      ]
     },
     "execution_count": 3,
     "metadata": {},
     "output_type": "execute_result"
    }
   ],
   "source": [
    "anime.head(1)"
   ]
  },
  {
   "cell_type": "code",
   "execution_count": 4,
   "metadata": {},
   "outputs": [],
   "source": [
    "anime = anime.drop(['background','aired','airing','duration','favorites','premiered','related','status',],axis=1)"
   ]
  },
  {
   "cell_type": "code",
   "execution_count": 5,
   "metadata": {},
   "outputs": [
    {
     "data": {
      "text/html": [
       "<div>\n",
       "<style scoped>\n",
       "    .dataframe tbody tr th:only-of-type {\n",
       "        vertical-align: middle;\n",
       "    }\n",
       "\n",
       "    .dataframe tbody tr th {\n",
       "        vertical-align: top;\n",
       "    }\n",
       "\n",
       "    .dataframe thead th {\n",
       "        text-align: right;\n",
       "    }\n",
       "</style>\n",
       "<table border=\"1\" class=\"dataframe\">\n",
       "  <thead>\n",
       "    <tr style=\"text-align: right;\">\n",
       "      <th></th>\n",
       "      <th>mal_id</th>\n",
       "      <th>title</th>\n",
       "      <th>synopsis</th>\n",
       "      <th>episodes</th>\n",
       "      <th>type</th>\n",
       "      <th>members</th>\n",
       "      <th>rank</th>\n",
       "      <th>popularity</th>\n",
       "      <th>score</th>\n",
       "      <th>scored_by</th>\n",
       "      <th>rating</th>\n",
       "      <th>genres</th>\n",
       "      <th>licensors</th>\n",
       "      <th>producers</th>\n",
       "      <th>studios</th>\n",
       "    </tr>\n",
       "  </thead>\n",
       "  <tbody>\n",
       "    <tr>\n",
       "      <th>0</th>\n",
       "      <td>1</td>\n",
       "      <td>Cowboy Bebop</td>\n",
       "      <td>In the year 2071, humanity has colonized sever...</td>\n",
       "      <td>26</td>\n",
       "      <td>TV</td>\n",
       "      <td>1366272</td>\n",
       "      <td>32.0</td>\n",
       "      <td>44</td>\n",
       "      <td>8.77</td>\n",
       "      <td>661519</td>\n",
       "      <td>R - 17+ (violence &amp; profanity)</td>\n",
       "      <td>Action, Adventure, Comedy, Drama, Sci-Fi, Space</td>\n",
       "      <td>Funimation, Bandai Entertainment</td>\n",
       "      <td>Bandai Visual</td>\n",
       "      <td>Sunrise</td>\n",
       "    </tr>\n",
       "  </tbody>\n",
       "</table>\n",
       "</div>"
      ],
      "text/plain": [
       "   mal_id         title                                           synopsis  \\\n",
       "0       1  Cowboy Bebop  In the year 2071, humanity has colonized sever...   \n",
       "\n",
       "   episodes type  members  rank  popularity  score  scored_by  \\\n",
       "0        26   TV  1366272  32.0          44   8.77     661519   \n",
       "\n",
       "                           rating  \\\n",
       "0  R - 17+ (violence & profanity)   \n",
       "\n",
       "                                            genres  \\\n",
       "0  Action, Adventure, Comedy, Drama, Sci-Fi, Space   \n",
       "\n",
       "                          licensors      producers  studios  \n",
       "0  Funimation, Bandai Entertainment  Bandai Visual  Sunrise  "
      ]
     },
     "execution_count": 5,
     "metadata": {},
     "output_type": "execute_result"
    }
   ],
   "source": [
    "anime.head(1)"
   ]
  },
  {
   "cell_type": "code",
   "execution_count": 6,
   "metadata": {},
   "outputs": [],
   "source": [
    "anime = anime.drop(['members','rank','popularity','scored_by'],axis=1)"
   ]
  },
  {
   "cell_type": "code",
   "execution_count": 7,
   "metadata": {},
   "outputs": [
    {
     "data": {
      "text/plain": [
       "mal_id         0\n",
       "title          0\n",
       "synopsis       0\n",
       "episodes       0\n",
       "type           0\n",
       "score          0\n",
       "rating       662\n",
       "genres        67\n",
       "licensors      0\n",
       "producers      0\n",
       "studios        0\n",
       "dtype: int64"
      ]
     },
     "execution_count": 7,
     "metadata": {},
     "output_type": "execute_result"
    }
   ],
   "source": [
    "anime.isnull().sum()"
   ]
  },
  {
   "cell_type": "code",
   "execution_count": 8,
   "metadata": {},
   "outputs": [],
   "source": [
    "anime.dropna(inplace=True)"
   ]
  },
  {
   "cell_type": "code",
   "execution_count": 9,
   "metadata": {},
   "outputs": [
    {
     "data": {
      "text/plain": [
       "0"
      ]
     },
     "execution_count": 9,
     "metadata": {},
     "output_type": "execute_result"
    }
   ],
   "source": [
    "anime.duplicated().sum()"
   ]
  },
  {
   "cell_type": "code",
   "execution_count": 10,
   "metadata": {},
   "outputs": [
    {
     "data": {
      "text/plain": [
       "(17452, 11)"
      ]
     },
     "execution_count": 10,
     "metadata": {},
     "output_type": "execute_result"
    }
   ],
   "source": [
    "anime.shape"
   ]
  },
  {
   "cell_type": "code",
   "execution_count": 22,
   "metadata": {},
   "outputs": [
    {
     "data": {
      "text/html": [
       "<div>\n",
       "<style scoped>\n",
       "    .dataframe tbody tr th:only-of-type {\n",
       "        vertical-align: middle;\n",
       "    }\n",
       "\n",
       "    .dataframe tbody tr th {\n",
       "        vertical-align: top;\n",
       "    }\n",
       "\n",
       "    .dataframe thead th {\n",
       "        text-align: right;\n",
       "    }\n",
       "</style>\n",
       "<table border=\"1\" class=\"dataframe\">\n",
       "  <thead>\n",
       "    <tr style=\"text-align: right;\">\n",
       "      <th></th>\n",
       "      <th>mal_id</th>\n",
       "      <th>title</th>\n",
       "      <th>synopsis</th>\n",
       "      <th>episodes</th>\n",
       "      <th>type</th>\n",
       "      <th>score</th>\n",
       "      <th>rating</th>\n",
       "      <th>genres</th>\n",
       "      <th>licensors</th>\n",
       "      <th>producers</th>\n",
       "      <th>studios</th>\n",
       "    </tr>\n",
       "  </thead>\n",
       "  <tbody>\n",
       "    <tr>\n",
       "      <th>0</th>\n",
       "      <td>1</td>\n",
       "      <td>Cowboy Bebop</td>\n",
       "      <td>[In the year 2071, humanity has colonized seve...</td>\n",
       "      <td>26</td>\n",
       "      <td>TV</td>\n",
       "      <td>8.77</td>\n",
       "      <td>R - 17+ (violence &amp; profanity)</td>\n",
       "      <td>[Action, Adventure, Comedy, Drama, Sci-Fi, Space]</td>\n",
       "      <td>[Funimation, Bandai Entertainment]</td>\n",
       "      <td>[Bandai Visual]</td>\n",
       "      <td>[Sunrise]</td>\n",
       "    </tr>\n",
       "  </tbody>\n",
       "</table>\n",
       "</div>"
      ],
      "text/plain": [
       "   mal_id         title                                           synopsis  \\\n",
       "0       1  Cowboy Bebop  [In the year 2071, humanity has colonized seve...   \n",
       "\n",
       "   episodes type  score                          rating  \\\n",
       "0        26   TV   8.77  R - 17+ (violence & profanity)   \n",
       "\n",
       "                                              genres  \\\n",
       "0  [Action, Adventure, Comedy, Drama, Sci-Fi, Space]   \n",
       "\n",
       "                            licensors        producers    studios  \n",
       "0  [Funimation, Bandai Entertainment]  [Bandai Visual]  [Sunrise]  "
      ]
     },
     "execution_count": 22,
     "metadata": {},
     "output_type": "execute_result"
    }
   ],
   "source": [
    "anime.head(1)"
   ]
  },
  {
   "cell_type": "code",
   "execution_count": 12,
   "metadata": {},
   "outputs": [
    {
     "data": {
      "text/plain": [
       "mal_id         int64\n",
       "title         object\n",
       "synopsis      object\n",
       "episodes       int64\n",
       "type          object\n",
       "score        float64\n",
       "rating        object\n",
       "genres        object\n",
       "licensors     object\n",
       "producers     object\n",
       "studios       object\n",
       "dtype: object"
      ]
     },
     "execution_count": 12,
     "metadata": {},
     "output_type": "execute_result"
    }
   ],
   "source": [
    "anime.dtypes"
   ]
  },
  {
   "cell_type": "code",
   "execution_count": 13,
   "metadata": {},
   "outputs": [],
   "source": [
    "def change_type(obj):\n",
    "    l=obj.split(', ')\n",
    "    return l"
   ]
  },
  {
   "cell_type": "code",
   "execution_count": 14,
   "metadata": {},
   "outputs": [],
   "source": [
    "anime['synopsis'] = anime['synopsis'].apply(change_type)"
   ]
  },
  {
   "cell_type": "code",
   "execution_count": 16,
   "metadata": {},
   "outputs": [],
   "source": [
    "anime['genres'] = anime['genres'].apply(change_type)"
   ]
  },
  {
   "cell_type": "code",
   "execution_count": 18,
   "metadata": {},
   "outputs": [],
   "source": [
    "anime['licensors'] = anime['licensors'].apply(change_type)"
   ]
  },
  {
   "cell_type": "code",
   "execution_count": 20,
   "metadata": {},
   "outputs": [],
   "source": [
    "anime['producers'] = anime['producers'].apply(change_type)"
   ]
  },
  {
   "cell_type": "code",
   "execution_count": 21,
   "metadata": {},
   "outputs": [],
   "source": [
    "anime['studios'] = anime['studios'].apply(change_type)"
   ]
  },
  {
   "cell_type": "code",
   "execution_count": 23,
   "metadata": {},
   "outputs": [],
   "source": [
    "anime['tags'] = anime['synopsis'] + anime['genres'] + anime['licensors'] + anime['producers'] + anime['studios']"
   ]
  },
  {
   "cell_type": "code",
   "execution_count": 27,
   "metadata": {},
   "outputs": [
    {
     "data": {
      "text/html": [
       "<div>\n",
       "<style scoped>\n",
       "    .dataframe tbody tr th:only-of-type {\n",
       "        vertical-align: middle;\n",
       "    }\n",
       "\n",
       "    .dataframe tbody tr th {\n",
       "        vertical-align: top;\n",
       "    }\n",
       "\n",
       "    .dataframe thead th {\n",
       "        text-align: right;\n",
       "    }\n",
       "</style>\n",
       "<table border=\"1\" class=\"dataframe\">\n",
       "  <thead>\n",
       "    <tr style=\"text-align: right;\">\n",
       "      <th></th>\n",
       "      <th>mal_id</th>\n",
       "      <th>title</th>\n",
       "      <th>synopsis</th>\n",
       "      <th>episodes</th>\n",
       "      <th>type</th>\n",
       "      <th>score</th>\n",
       "      <th>rating</th>\n",
       "      <th>genres</th>\n",
       "      <th>licensors</th>\n",
       "      <th>producers</th>\n",
       "      <th>studios</th>\n",
       "      <th>tags</th>\n",
       "    </tr>\n",
       "  </thead>\n",
       "  <tbody>\n",
       "    <tr>\n",
       "      <th>0</th>\n",
       "      <td>1</td>\n",
       "      <td>Cowboy Bebop</td>\n",
       "      <td>[In the year 2071, humanity has colonized seve...</td>\n",
       "      <td>26</td>\n",
       "      <td>TV</td>\n",
       "      <td>8.77</td>\n",
       "      <td>R - 17+ (violence &amp; profanity)</td>\n",
       "      <td>[Action, Adventure, Comedy, Drama, Sci-Fi, Space]</td>\n",
       "      <td>[Funimation, Bandai Entertainment]</td>\n",
       "      <td>[Bandai Visual]</td>\n",
       "      <td>[Sunrise]</td>\n",
       "      <td>in the year 2071 humanity has colonized severa...</td>\n",
       "    </tr>\n",
       "  </tbody>\n",
       "</table>\n",
       "</div>"
      ],
      "text/plain": [
       "   mal_id         title                                           synopsis  \\\n",
       "0       1  Cowboy Bebop  [In the year 2071, humanity has colonized seve...   \n",
       "\n",
       "   episodes type  score                          rating  \\\n",
       "0        26   TV   8.77  R - 17+ (violence & profanity)   \n",
       "\n",
       "                                              genres  \\\n",
       "0  [Action, Adventure, Comedy, Drama, Sci-Fi, Space]   \n",
       "\n",
       "                            licensors        producers    studios  \\\n",
       "0  [Funimation, Bandai Entertainment]  [Bandai Visual]  [Sunrise]   \n",
       "\n",
       "                                                tags  \n",
       "0  in the year 2071 humanity has colonized severa...  "
      ]
     },
     "execution_count": 27,
     "metadata": {},
     "output_type": "execute_result"
    }
   ],
   "source": [
    "anime.head(1)"
   ]
  },
  {
   "cell_type": "code",
   "execution_count": 25,
   "metadata": {},
   "outputs": [],
   "source": [
    "anime['tags']= anime['tags'].apply(lambda x:\" \".join(x))"
   ]
  },
  {
   "cell_type": "code",
   "execution_count": 26,
   "metadata": {},
   "outputs": [],
   "source": [
    "anime['tags']=anime['tags'].apply(lambda x:x.lower())"
   ]
  },
  {
   "cell_type": "code",
   "execution_count": 34,
   "metadata": {},
   "outputs": [
    {
     "data": {
      "text/plain": [
       "'in the year 2071 human ha colon sever of the planet and moon of the solar system leav the now uninhabit surfac of planet earth behind. the inter solar system polic attempt to keep peac in the galaxi aid in part by outlaw bounti hunter refer to as \"cowboys.\" the ragtag team aboard the spaceship bebop are two such individuals. mellow and carefre spike spiegel is balanc by hi boister pragmat partner jet black as the pair make a live chase bounti and collect rewards. thrown off cours by the addit of new member that they meet in their travels—ein a genet engin highli intellig welsh corgi; femm fatal fay valentin an enigmat trickster with memori loss; and the strang comput whiz kid edward wong—th crew embark on thrill adventur that unravel each member\\' dark and mysteri past littl by little. well-balanc with high densiti action and light-heart comedi cowboy bebop is a space western classic and an homag to the smooth and improvis music it is name after. [written by mal rewrite] action adventur comedi drama sci-fi space funim bandai entertain bandai visual sunris'"
      ]
     },
     "execution_count": 34,
     "metadata": {},
     "output_type": "execute_result"
    }
   ],
   "source": [
    "anime.iloc[0].tags"
   ]
  },
  {
   "cell_type": "code",
   "execution_count": 29,
   "metadata": {},
   "outputs": [],
   "source": [
    "import nltk"
   ]
  },
  {
   "cell_type": "code",
   "execution_count": 30,
   "metadata": {},
   "outputs": [],
   "source": [
    "from nltk.stem.porter import PorterStemmer\n"
   ]
  },
  {
   "cell_type": "code",
   "execution_count": 31,
   "metadata": {},
   "outputs": [],
   "source": [
    "ps = PorterStemmer()"
   ]
  },
  {
   "cell_type": "code",
   "execution_count": 32,
   "metadata": {},
   "outputs": [],
   "source": [
    "def stem(text):\n",
    "    y =[]\n",
    "    for i in text.split():\n",
    "        y.append(ps.stem(i))\n",
    "    return \" \".join(y)"
   ]
  },
  {
   "cell_type": "code",
   "execution_count": 33,
   "metadata": {},
   "outputs": [],
   "source": [
    "anime['tags']= anime['tags'].apply(stem)"
   ]
  },
  {
   "cell_type": "code",
   "execution_count": 35,
   "metadata": {},
   "outputs": [],
   "source": [
    "from sklearn.feature_extraction.text import CountVectorizer"
   ]
  },
  {
   "cell_type": "code",
   "execution_count": 36,
   "metadata": {},
   "outputs": [],
   "source": [
    "cv = CountVectorizer(max_features=5000,stop_words='english')"
   ]
  },
  {
   "cell_type": "code",
   "execution_count": 37,
   "metadata": {},
   "outputs": [],
   "source": [
    "vector = cv.fit_transform(anime['tags']).toarray()"
   ]
  },
  {
   "cell_type": "code",
   "execution_count": 38,
   "metadata": {},
   "outputs": [],
   "source": [
    "from sklearn.metrics.pairwise import cosine_similarity"
   ]
  },
  {
   "cell_type": "code",
   "execution_count": 39,
   "metadata": {},
   "outputs": [],
   "source": [
    "similarity = cosine_similarity(vector)"
   ]
  },
  {
   "cell_type": "code",
   "execution_count": 40,
   "metadata": {},
   "outputs": [
    {
     "name": "stderr",
     "output_type": "stream",
     "text": [
      "C:\\Users\\Admin\\AppData\\Local\\Packages\\PythonSoftwareFoundation.Python.3.12_qbz5n2kfra8p0\\LocalCache\\local-packages\\Python312\\site-packages\\fuzzywuzzy\\fuzz.py:11: UserWarning: Using slow pure-python SequenceMatcher. Install python-Levenshtein to remove this warning\n",
      "  warnings.warn('Using slow pure-python SequenceMatcher. Install python-Levenshtein to remove this warning')\n"
     ]
    }
   ],
   "source": [
    "from fuzzywuzzy import process"
   ]
  },
  {
   "cell_type": "code",
   "execution_count": 41,
   "metadata": {},
   "outputs": [
    {
     "data": {
      "text/plain": [
       "array([[1.        , 0.3070671 , 0.24138828, ..., 0.        , 0.09325048,\n",
       "        0.02948839],\n",
       "       [0.3070671 , 1.        , 0.15221564, ..., 0.03309517, 0.10976426,\n",
       "        0.03471051],\n",
       "       [0.24138828, 0.15221564, 1.        , ..., 0.05574947, 0.04622502,\n",
       "        0.        ],\n",
       "       ...,\n",
       "       [0.        , 0.03309517, 0.05574947, ..., 1.        , 0.        ,\n",
       "        0.        ],\n",
       "       [0.09325048, 0.10976426, 0.04622502, ..., 0.        , 1.        ,\n",
       "        0.        ],\n",
       "       [0.02948839, 0.03471051, 0.        , ..., 0.        , 0.        ,\n",
       "        1.        ]])"
      ]
     },
     "execution_count": 41,
     "metadata": {},
     "output_type": "execute_result"
    }
   ],
   "source": [
    "similarity"
   ]
  },
  {
   "cell_type": "code",
   "execution_count": 44,
   "metadata": {},
   "outputs": [],
   "source": [
    "def recommend(movie):\n",
    "    movie = movie.lower()\n",
    "    matches = process.extract(movie, anime['title'].str.lower(), limit=1)\n",
    "    matched_title = matches[0][0]\n",
    "    index = anime[anime['title'].str.lower() == matched_title].index[0]\n",
    "\n",
    "# Check if the index is valid\n",
    "    if index < 0 or index >= len(anime):\n",
    "        print(\"Index out of bounds: matched title not found in data.\")\n",
    "    else:\n",
    "        distances = sorted(list(enumerate(similarity[index])), reverse=True, key=lambda x: x[1])\n",
    "        for i in distances[1:11]:\n",
    "            print(f\"- {anime.iloc[i[0]].title}\")"
   ]
  },
  {
   "cell_type": "code",
   "execution_count": 52,
   "metadata": {},
   "outputs": [
    {
     "name": "stdout",
     "output_type": "stream",
     "text": [
      "- Dragon Ball GT\n",
      "- Dragon Ball Kai\n",
      "- Dragon Ball Movie 3: Makafushigi Daibouken\n",
      "- Dragon Ball Z\n",
      "- Dragon Ball Super (Movie)\n",
      "- Dragon Ball Z: Atsumare! Gokuu World\n",
      "- Zhanguo Fan\n",
      "- Dragon Ball: Super Saiya-jin Zetsumetsu Keikaku\n",
      "- Dragon Ball Super\n",
      "- Dragon Ball Super: Broly\n"
     ]
    }
   ],
   "source": [
    "recommend('Dragon Ball')"
   ]
  }
 ],
 "metadata": {
  "kernelspec": {
   "display_name": "Python 3",
   "language": "python",
   "name": "python3"
  },
  "language_info": {
   "codemirror_mode": {
    "name": "ipython",
    "version": 3
   },
   "file_extension": ".py",
   "mimetype": "text/x-python",
   "name": "python",
   "nbconvert_exporter": "python",
   "pygments_lexer": "ipython3",
   "version": "3.12.4"
  }
 },
 "nbformat": 4,
 "nbformat_minor": 2
}
